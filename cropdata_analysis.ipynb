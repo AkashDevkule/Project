{
 "cells": [
  {
   "cell_type": "code",
   "execution_count": 2,
   "metadata": {},
   "outputs": [],
   "source": [
    "import pandas as pd\n",
    "import numpy as np\n",
    "import matplotlib as plt"
   ]
  },
  {
   "cell_type": "code",
   "execution_count": 3,
   "metadata": {},
   "outputs": [
    {
     "data": {
      "text/html": [
       "<div>\n",
       "<style scoped>\n",
       "    .dataframe tbody tr th:only-of-type {\n",
       "        vertical-align: middle;\n",
       "    }\n",
       "\n",
       "    .dataframe tbody tr th {\n",
       "        vertical-align: top;\n",
       "    }\n",
       "\n",
       "    .dataframe thead th {\n",
       "        text-align: right;\n",
       "    }\n",
       "</style>\n",
       "<table border=\"1\" class=\"dataframe\">\n",
       "  <thead>\n",
       "    <tr style=\"text-align: right;\">\n",
       "      <th></th>\n",
       "      <th>State_Name</th>\n",
       "      <th>District_Name</th>\n",
       "      <th>Crop_Year</th>\n",
       "      <th>Season</th>\n",
       "      <th>Crop</th>\n",
       "      <th>Area</th>\n",
       "      <th>Production</th>\n",
       "    </tr>\n",
       "  </thead>\n",
       "  <tbody>\n",
       "    <tr>\n",
       "      <th>0</th>\n",
       "      <td>Maharashtra</td>\n",
       "      <td>KOLHAPUR</td>\n",
       "      <td>2005</td>\n",
       "      <td>Kharif</td>\n",
       "      <td>Arhar/Tur</td>\n",
       "      <td>3100</td>\n",
       "      <td>1100.0</td>\n",
       "    </tr>\n",
       "    <tr>\n",
       "      <th>1</th>\n",
       "      <td>Maharashtra</td>\n",
       "      <td>KOLHAPUR</td>\n",
       "      <td>2005</td>\n",
       "      <td>Kharif</td>\n",
       "      <td>Castor seed</td>\n",
       "      <td>200</td>\n",
       "      <td>100.0</td>\n",
       "    </tr>\n",
       "    <tr>\n",
       "      <th>2</th>\n",
       "      <td>Maharashtra</td>\n",
       "      <td>KOLHAPUR</td>\n",
       "      <td>2005</td>\n",
       "      <td>Kharif</td>\n",
       "      <td>Cotton(lint)</td>\n",
       "      <td>100</td>\n",
       "      <td>100.0</td>\n",
       "    </tr>\n",
       "    <tr>\n",
       "      <th>3</th>\n",
       "      <td>Maharashtra</td>\n",
       "      <td>KOLHAPUR</td>\n",
       "      <td>2005</td>\n",
       "      <td>Kharif</td>\n",
       "      <td>Groundnut</td>\n",
       "      <td>64300</td>\n",
       "      <td>77900.0</td>\n",
       "    </tr>\n",
       "    <tr>\n",
       "      <th>4</th>\n",
       "      <td>Maharashtra</td>\n",
       "      <td>KOLHAPUR</td>\n",
       "      <td>2005</td>\n",
       "      <td>Kharif</td>\n",
       "      <td>Moong(Green Gram)</td>\n",
       "      <td>2600</td>\n",
       "      <td>1200.0</td>\n",
       "    </tr>\n",
       "  </tbody>\n",
       "</table>\n",
       "</div>"
      ],
      "text/plain": [
       "    State_Name District_Name  Crop_Year       Season               Crop  \\\n",
       "0  Maharashtra      KOLHAPUR       2005  Kharif               Arhar/Tur   \n",
       "1  Maharashtra      KOLHAPUR       2005  Kharif             Castor seed   \n",
       "2  Maharashtra      KOLHAPUR       2005  Kharif            Cotton(lint)   \n",
       "3  Maharashtra      KOLHAPUR       2005  Kharif               Groundnut   \n",
       "4  Maharashtra      KOLHAPUR       2005  Kharif       Moong(Green Gram)   \n",
       "\n",
       "    Area  Production  \n",
       "0   3100      1100.0  \n",
       "1    200       100.0  \n",
       "2    100       100.0  \n",
       "3  64300     77900.0  \n",
       "4   2600      1200.0  "
      ]
     },
     "execution_count": 3,
     "metadata": {},
     "output_type": "execute_result"
    }
   ],
   "source": [
    "data = pd.read_csv('cropdata.csv')\n",
    "data.head()"
   ]
  },
  {
   "cell_type": "code",
   "execution_count": 6,
   "metadata": {},
   "outputs": [
    {
     "data": {
      "text/plain": [
       "State_Name        0\n",
       "District_Name     0\n",
       "Crop_Year         0\n",
       "Season            0\n",
       "Crop              0\n",
       "Area              0\n",
       "Production       20\n",
       "dtype: int64"
      ]
     },
     "execution_count": 6,
     "metadata": {},
     "output_type": "execute_result"
    }
   ],
   "source": [
    "data.isnull().sum()"
   ]
  },
  {
   "cell_type": "code",
   "execution_count": 11,
   "metadata": {},
   "outputs": [
    {
     "data": {
      "text/plain": [
       "20"
      ]
     },
     "execution_count": 11,
     "metadata": {},
     "output_type": "execute_result"
    }
   ],
   "source": [
    "data['Production'].isnull().sum()"
   ]
  },
  {
   "cell_type": "code",
   "execution_count": 13,
   "metadata": {},
   "outputs": [],
   "source": [
    "data['Production']=data['Production'].fillna(data['Production'].median())"
   ]
  },
  {
   "cell_type": "code",
   "execution_count": 14,
   "metadata": {},
   "outputs": [
    {
     "data": {
      "text/plain": [
       "0"
      ]
     },
     "execution_count": 14,
     "metadata": {},
     "output_type": "execute_result"
    }
   ],
   "source": [
    "data['Production'].isnull().sum()"
   ]
  },
  {
   "cell_type": "code",
   "execution_count": 16,
   "metadata": {},
   "outputs": [
    {
     "data": {
      "text/plain": [
       "<pandas.core.groupby.generic.DataFrameGroupBy object at 0x0000001F6CE1A5B0>"
      ]
     },
     "execution_count": 16,
     "metadata": {},
     "output_type": "execute_result"
    }
   ],
   "source": [
    "season_wise = data.groupby('Season')\n",
    "season_wise"
   ]
  },
  {
   "cell_type": "code",
   "execution_count": 17,
   "metadata": {},
   "outputs": [
    {
     "name": "stdout",
     "output_type": "stream",
     "text": [
      "District_name Kharif     \n",
      "Season       State_Name District_Name  Crop_Year       Season                 Crop  \\\n",
      "0    Maharashtra      KOLHAPUR       2005  Kharif                 Arhar/Tur   \n",
      "1    Maharashtra      KOLHAPUR       2005  Kharif               Castor seed   \n",
      "2    Maharashtra      KOLHAPUR       2005  Kharif              Cotton(lint)   \n",
      "3    Maharashtra      KOLHAPUR       2005  Kharif                 Groundnut   \n",
      "4    Maharashtra      KOLHAPUR       2005  Kharif         Moong(Green Gram)   \n",
      "..           ...           ...        ...          ...                  ...   \n",
      "567  Maharashtra       SOLAPUR       2014  Kharif       Other Kharif pulses   \n",
      "568  Maharashtra       SOLAPUR       2014  Kharif                      Rice   \n",
      "569  Maharashtra       SOLAPUR       2014  Kharif                   Sesamum   \n",
      "570  Maharashtra       SOLAPUR       2014  Kharif                  Soyabean   \n",
      "571  Maharashtra       SOLAPUR       2014  Kharif                 Sunflower   \n",
      "\n",
      "      Area  Production  \n",
      "0     3100      1100.0  \n",
      "1      200       100.0  \n",
      "2      100       100.0  \n",
      "3    64300     77900.0  \n",
      "4     2600      1200.0  \n",
      "..     ...         ...  \n",
      "567   2000       500.0  \n",
      "568    400       100.0  \n",
      "569    200       100.0  \n",
      "570   6300      7400.0  \n",
      "571   4500      2100.0  \n",
      "\n",
      "[344 rows x 7 columns]\n",
      "District_name Rabi       \n",
      "Season       State_Name District_Name  Crop_Year       Season                Crop  \\\n",
      "13   Maharashtra      KOLHAPUR       2005  Rabi                       Gram   \n",
      "14   Maharashtra      KOLHAPUR       2005  Rabi                  Sunflower   \n",
      "15   Maharashtra      KOLHAPUR       2005  Rabi                      Wheat   \n",
      "33   Maharashtra      KOLHAPUR       2010  Rabi                       Gram   \n",
      "34   Maharashtra      KOLHAPUR       2010  Rabi                      Jowar   \n",
      "..           ...           ...        ...          ...                 ...   \n",
      "575  Maharashtra       SOLAPUR       2014  Rabi                      Maize   \n",
      "576  Maharashtra       SOLAPUR       2014  Rabi         Other  Rabi pulses   \n",
      "577  Maharashtra       SOLAPUR       2014  Rabi                  Safflower   \n",
      "578  Maharashtra       SOLAPUR       2014  Rabi                  Sunflower   \n",
      "579  Maharashtra       SOLAPUR       2014  Rabi                      Wheat   \n",
      "\n",
      "      Area  Production  \n",
      "13    9200      7100.0  \n",
      "14     100       100.0  \n",
      "15    9900     20100.0  \n",
      "33    8500      7100.0  \n",
      "34   14000     22400.0  \n",
      "..     ...         ...  \n",
      "575  36100    105800.0  \n",
      "576    500       100.0  \n",
      "577   2100      1900.0  \n",
      "578  16000      9900.0  \n",
      "579  42200     54600.0  \n",
      "\n",
      "[174 rows x 7 columns]\n",
      "District_name Summer     \n",
      "Season       State_Name District_Name  Crop_Year       Season       Crop  Area  \\\n",
      "16   Maharashtra      KOLHAPUR       2005  Summer       Groundnut  2700   \n",
      "17   Maharashtra      KOLHAPUR       2005  Summer            Rice   600   \n",
      "18   Maharashtra      KOLHAPUR       2005  Summer       Sunflower   700   \n",
      "56   Maharashtra      KOLHAPUR       2012  Summer       Groundnut  2200   \n",
      "57   Maharashtra      KOLHAPUR       2012  Summer            Rice   700   \n",
      "58   Maharashtra      KOLHAPUR       2012  Summer       Sunflower  1100   \n",
      "76   Maharashtra      KOLHAPUR       2013  Summer       Groundnut  2600   \n",
      "77   Maharashtra      KOLHAPUR       2013  Summer           Maize   100   \n",
      "78   Maharashtra      KOLHAPUR       2013  Summer            Rice   800   \n",
      "79   Maharashtra      KOLHAPUR       2013  Summer       Sunflower  1100   \n",
      "100  Maharashtra      KOLHAPUR       2014  Summer       Groundnut  3100   \n",
      "101  Maharashtra      KOLHAPUR       2014  Summer           Maize   100   \n",
      "102  Maharashtra      KOLHAPUR       2014  Summer            Rice   900   \n",
      "103  Maharashtra      KOLHAPUR       2014  Summer       Sunflower  1100   \n",
      "125  Maharashtra          PUNE       2005  Summer       Groundnut  5300   \n",
      "126  Maharashtra          PUNE       2005  Summer       Sunflower   300   \n",
      "173  Maharashtra          PUNE       2012  Summer       Groundnut  6900   \n",
      "174  Maharashtra          PUNE       2012  Summer           Maize   500   \n",
      "175  Maharashtra          PUNE       2012  Summer       Sunflower   800   \n",
      "199  Maharashtra          PUNE       2013  Summer       Groundnut  8100   \n",
      "200  Maharashtra          PUNE       2013  Summer           Maize  1100   \n",
      "201  Maharashtra          PUNE       2013  Summer       Sunflower   800   \n",
      "224  Maharashtra          PUNE       2014  Summer       Groundnut  8400   \n",
      "225  Maharashtra          PUNE       2014  Summer           Maize  1100   \n",
      "246  Maharashtra        SANGLI       2005  Summer       Groundnut   800   \n",
      "247  Maharashtra        SANGLI       2005  Summer       Sunflower   200   \n",
      "293  Maharashtra        SANGLI       2012  Summer       Groundnut  1300   \n",
      "316  Maharashtra        SANGLI       2013  Summer       Groundnut  1500   \n",
      "317  Maharashtra        SANGLI       2013  Summer           Maize  2800   \n",
      "339  Maharashtra        SANGLI       2014  Summer       Groundnut  1800   \n",
      "340  Maharashtra        SANGLI       2014  Summer           Maize  2400   \n",
      "361  Maharashtra        SATARA       2005  Summer       Groundnut  4000   \n",
      "362  Maharashtra        SATARA       2005  Summer       Sunflower   100   \n",
      "411  Maharashtra        SATARA       2012  Summer       Groundnut  4500   \n",
      "412  Maharashtra        SATARA       2012  Summer           Maize  2600   \n",
      "436  Maharashtra        SATARA       2013  Summer       Groundnut  5800   \n",
      "437  Maharashtra        SATARA       2013  Summer           Maize   500   \n",
      "460  Maharashtra        SATARA       2014  Summer       Groundnut  6800   \n",
      "461  Maharashtra        SATARA       2014  Summer           Maize  2700   \n",
      "480  Maharashtra       SOLAPUR       2005  Summer       Groundnut  5900   \n",
      "481  Maharashtra       SOLAPUR       2005  Summer       Sunflower   500   \n",
      "528  Maharashtra       SOLAPUR       2012  Summer       Groundnut  2700   \n",
      "529  Maharashtra       SOLAPUR       2012  Summer           Maize  1100   \n",
      "530  Maharashtra       SOLAPUR       2012  Summer       Sunflower   400   \n",
      "554  Maharashtra       SOLAPUR       2013  Summer       Groundnut  3500   \n",
      "555  Maharashtra       SOLAPUR       2013  Summer           Maize  2000   \n",
      "556  Maharashtra       SOLAPUR       2013  Summer       Sunflower   400   \n",
      "580  Maharashtra       SOLAPUR       2014  Summer       Groundnut  4000   \n",
      "581  Maharashtra       SOLAPUR       2014  Summer           Maize  2200   \n",
      "\n",
      "     Production  \n",
      "16       7200.0  \n",
      "17       1700.0  \n",
      "18       1000.0  \n",
      "56       4800.0  \n",
      "57       1800.0  \n",
      "58       1800.0  \n",
      "76       6100.0  \n",
      "77        200.0  \n",
      "78       2200.0  \n",
      "79       1200.0  \n",
      "100      6400.0  \n",
      "101       300.0  \n",
      "102      3400.0  \n",
      "103      1600.0  \n",
      "125     10800.0  \n",
      "126       200.0  \n",
      "173     10100.0  \n",
      "174       900.0  \n",
      "175       400.0  \n",
      "199     14600.0  \n",
      "200      1900.0  \n",
      "201       500.0  \n",
      "224     19100.0  \n",
      "225      1600.0  \n",
      "246      1600.0  \n",
      "247       200.0  \n",
      "293      1600.0  \n",
      "316      1700.0  \n",
      "317      4400.0  \n",
      "339      2400.0  \n",
      "340      3700.0  \n",
      "361      9700.0  \n",
      "362       100.0  \n",
      "411     10000.0  \n",
      "412      4200.0  \n",
      "436     12300.0  \n",
      "437       800.0  \n",
      "460     17900.0  \n",
      "461      4300.0  \n",
      "480      7400.0  \n",
      "481       400.0  \n",
      "528      3900.0  \n",
      "529      1800.0  \n",
      "530       200.0  \n",
      "554      4700.0  \n",
      "555      3300.0  \n",
      "556       300.0  \n",
      "580      5900.0  \n",
      "581      3400.0  \n",
      "District_name Whole Year \n",
      "Season       State_Name District_Name  Crop_Year       Season       Crop    Area  \\\n",
      "59   Maharashtra      KOLHAPUR       2012  Whole Year   Sugarcane  142000   \n",
      "80   Maharashtra      KOLHAPUR       2013  Whole Year   Sugarcane  135200   \n",
      "81   Maharashtra      KOLHAPUR       2013  Whole Year     Tobacco    1500   \n",
      "104  Maharashtra      KOLHAPUR       2014  Whole Year   Sugarcane  146300   \n",
      "176  Maharashtra          PUNE       2012  Whole Year   Sugarcane  137700   \n",
      "202  Maharashtra          PUNE       2013  Whole Year   Sugarcane  143900   \n",
      "226  Maharashtra          PUNE       2014  Whole Year   Sugarcane  127800   \n",
      "294  Maharashtra        SANGLI       2012  Whole Year   Sugarcane   60700   \n",
      "318  Maharashtra        SANGLI       2013  Whole Year   Sugarcane   62600   \n",
      "341  Maharashtra        SANGLI       2014  Whole Year   Sugarcane   74500   \n",
      "413  Maharashtra        SATARA       2012  Whole Year   Sugarcane   59800   \n",
      "438  Maharashtra        SATARA       2013  Whole Year   Sugarcane   59800   \n",
      "462  Maharashtra        SATARA       2014  Whole Year   Sugarcane   70000   \n",
      "531  Maharashtra       SOLAPUR       2012  Whole Year   Sugarcane  144200   \n",
      "557  Maharashtra       SOLAPUR       2013  Whole Year   Sugarcane  122600   \n",
      "582  Maharashtra       SOLAPUR       2014  Whole Year   Sugarcane  205500   \n",
      "\n",
      "     Production  \n",
      "59   13739100.0  \n",
      "80   13580200.0  \n",
      "81       1800.0  \n",
      "104  15031600.0  \n",
      "176  13888400.0  \n",
      "202  16963500.0  \n",
      "226  13833900.0  \n",
      "294   7066100.0  \n",
      "318   7466700.0  \n",
      "341   8107100.0  \n",
      "413   5577700.0  \n",
      "438   6015200.0  \n",
      "462   6927400.0  \n",
      "531   9716600.0  \n",
      "557  10488200.0  \n",
      "582  20049700.0  \n"
     ]
    }
   ],
   "source": [
    "for District_Name ,season in season_wise:\n",
    "    print('District_name',District_Name)\n",
    "    print('Season',season)\n",
    "    "
   ]
  },
  {
   "cell_type": "code",
   "execution_count": 18,
   "metadata": {},
   "outputs": [
    {
     "data": {
      "text/html": [
       "<div>\n",
       "<style scoped>\n",
       "    .dataframe tbody tr th:only-of-type {\n",
       "        vertical-align: middle;\n",
       "    }\n",
       "\n",
       "    .dataframe tbody tr th {\n",
       "        vertical-align: top;\n",
       "    }\n",
       "\n",
       "    .dataframe thead th {\n",
       "        text-align: right;\n",
       "    }\n",
       "</style>\n",
       "<table border=\"1\" class=\"dataframe\">\n",
       "  <thead>\n",
       "    <tr style=\"text-align: right;\">\n",
       "      <th></th>\n",
       "      <th>Crop_Year</th>\n",
       "      <th>Area</th>\n",
       "      <th>Production</th>\n",
       "    </tr>\n",
       "    <tr>\n",
       "      <th>Season</th>\n",
       "      <th></th>\n",
       "      <th></th>\n",
       "      <th></th>\n",
       "    </tr>\n",
       "  </thead>\n",
       "  <tbody>\n",
       "    <tr>\n",
       "      <th>Kharif</th>\n",
       "      <td>2010.805233</td>\n",
       "      <td>18118.023256</td>\n",
       "      <td>2.514228e+05</td>\n",
       "    </tr>\n",
       "    <tr>\n",
       "      <th>Rabi</th>\n",
       "      <td>2011.178161</td>\n",
       "      <td>40788.505747</td>\n",
       "      <td>3.475543e+04</td>\n",
       "    </tr>\n",
       "    <tr>\n",
       "      <th>Summer</th>\n",
       "      <td>2011.204082</td>\n",
       "      <td>2277.551020</td>\n",
       "      <td>4.204082e+03</td>\n",
       "    </tr>\n",
       "    <tr>\n",
       "      <th>Whole Year</th>\n",
       "      <td>2013.000000</td>\n",
       "      <td>105881.250000</td>\n",
       "      <td>1.052832e+07</td>\n",
       "    </tr>\n",
       "  </tbody>\n",
       "</table>\n",
       "</div>"
      ],
      "text/plain": [
       "               Crop_Year           Area    Production\n",
       "Season                                               \n",
       "Kharif       2010.805233   18118.023256  2.514228e+05\n",
       "Rabi         2011.178161   40788.505747  3.475543e+04\n",
       "Summer       2011.204082    2277.551020  4.204082e+03\n",
       "Whole Year   2013.000000  105881.250000  1.052832e+07"
      ]
     },
     "execution_count": 18,
     "metadata": {},
     "output_type": "execute_result"
    }
   ],
   "source": [
    "season_wise.mean()"
   ]
  },
  {
   "cell_type": "code",
   "execution_count": 19,
   "metadata": {},
   "outputs": [
    {
     "data": {
      "text/html": [
       "<div>\n",
       "<style scoped>\n",
       "    .dataframe tbody tr th:only-of-type {\n",
       "        vertical-align: middle;\n",
       "    }\n",
       "\n",
       "    .dataframe tbody tr th {\n",
       "        vertical-align: top;\n",
       "    }\n",
       "\n",
       "    .dataframe thead th {\n",
       "        text-align: right;\n",
       "    }\n",
       "</style>\n",
       "<table border=\"1\" class=\"dataframe\">\n",
       "  <thead>\n",
       "    <tr style=\"text-align: right;\">\n",
       "      <th></th>\n",
       "      <th>State_Name</th>\n",
       "      <th>District_Name</th>\n",
       "      <th>Crop_Year</th>\n",
       "      <th>Crop</th>\n",
       "      <th>Area</th>\n",
       "      <th>Production</th>\n",
       "    </tr>\n",
       "    <tr>\n",
       "      <th>Season</th>\n",
       "      <th></th>\n",
       "      <th></th>\n",
       "      <th></th>\n",
       "      <th></th>\n",
       "      <th></th>\n",
       "      <th></th>\n",
       "    </tr>\n",
       "  </thead>\n",
       "  <tbody>\n",
       "    <tr>\n",
       "      <th>Kharif</th>\n",
       "      <td>344</td>\n",
       "      <td>344</td>\n",
       "      <td>344</td>\n",
       "      <td>344</td>\n",
       "      <td>344</td>\n",
       "      <td>344</td>\n",
       "    </tr>\n",
       "    <tr>\n",
       "      <th>Rabi</th>\n",
       "      <td>174</td>\n",
       "      <td>174</td>\n",
       "      <td>174</td>\n",
       "      <td>174</td>\n",
       "      <td>174</td>\n",
       "      <td>174</td>\n",
       "    </tr>\n",
       "    <tr>\n",
       "      <th>Summer</th>\n",
       "      <td>49</td>\n",
       "      <td>49</td>\n",
       "      <td>49</td>\n",
       "      <td>49</td>\n",
       "      <td>49</td>\n",
       "      <td>49</td>\n",
       "    </tr>\n",
       "    <tr>\n",
       "      <th>Whole Year</th>\n",
       "      <td>16</td>\n",
       "      <td>16</td>\n",
       "      <td>16</td>\n",
       "      <td>16</td>\n",
       "      <td>16</td>\n",
       "      <td>16</td>\n",
       "    </tr>\n",
       "  </tbody>\n",
       "</table>\n",
       "</div>"
      ],
      "text/plain": [
       "             State_Name  District_Name  Crop_Year  Crop  Area  Production\n",
       "Season                                                                   \n",
       "Kharif              344            344        344   344   344         344\n",
       "Rabi                174            174        174   174   174         174\n",
       "Summer               49             49         49    49    49          49\n",
       "Whole Year           16             16         16    16    16          16"
      ]
     },
     "execution_count": 19,
     "metadata": {},
     "output_type": "execute_result"
    }
   ],
   "source": [
    "season_wise.count()"
   ]
  },
  {
   "cell_type": "code",
   "execution_count": 20,
   "metadata": {},
   "outputs": [
    {
     "data": {
      "text/plain": [
       "Season\n",
       "Kharif         AxesSubplot(0.125,0.125;0.775x0.755)\n",
       "Rabi           AxesSubplot(0.125,0.125;0.775x0.755)\n",
       "Summer         AxesSubplot(0.125,0.125;0.775x0.755)\n",
       "Whole Year     AxesSubplot(0.125,0.125;0.775x0.755)\n",
       "dtype: object"
      ]
     },
     "execution_count": 20,
     "metadata": {},
     "output_type": "execute_result"
    },
    {
     "data": {
      "image/png": "[encoded data removed]",
      "text/plain": [
       "<Figure size 432x288 with 1 Axes>"
      ]
     },
     "metadata": {
      "needs_background": "light"
     },
     "output_type": "display_data"
    },
    {
     "data": {
      "image/png": "[encoded data removed]",
      "text/plain": [
       "<Figure size 432x288 with 1 Axes>"
      ]
     },
     "metadata": {
      "needs_background": "light"
     },
     "output_type": "display_data"
    },
    {
     "data": {
      "image/png": "[encoded data removed]",
      "text/plain": [
       "<Figure size 432x288 with 1 Axes>"
      ]
     },
     "metadata": {
      "needs_background": "light"
     },
     "output_type": "display_data"
    },
    {
     "data": {
      "image/png": "[encoded data removed]",
      "text/plain": [
       "<Figure size 432x288 with 1 Axes>"
      ]
     },
     "metadata": {
      "needs_background": "light"
     },
     "output_type": "display_data"
    }
   ],
   "source": [
    "%matplotlib inline\n",
    "season_wise.plot()"
   ]
  }
 ],
 "metadata": {
  "kernelspec": {
   "display_name": "Python 3",
   "language": "python",
   "name": "python3"
  },
  "language_info": {
   "codemirror_mode": {
    "name": "ipython",
    "version": 3
   },
   "file_extension": ".py",
   "mimetype": "text/x-python",
   "name": "python",
   "nbconvert_exporter": "python",
   "pygments_lexer": "ipython3",
   "version": "3.8.3"
  }
 },
 "nbformat": 4,
 "nbformat_minor": 4
}
