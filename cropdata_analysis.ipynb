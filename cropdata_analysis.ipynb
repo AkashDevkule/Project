{
 "cells": [
  {
   "cell_type": "markdown",
   "metadata": {},
   "source": [
    "**Importing relavent libraries for project**"
   ]
  },
  {
   "cell_type": "code",
   "execution_count": 27,
   "metadata": {},
   "outputs": [],
   "source": [
    "import pandas as pd\n",
    "import numpy as np\n",
    "import matplotlib.pyplot as plt"
   ]
  },
  {
   "cell_type": "markdown",
   "metadata": {},
   "source": [
    "**Load the csv file i.e dataset**"
   ]
  },
  {
   "cell_type": "code",
   "execution_count": 28,
   "metadata": {},
   "outputs": [
    {
     "data": {
      "text/html": [
       "<div>\n",
       "<style scoped>\n",
       "    .dataframe tbody tr th:only-of-type {\n",
       "        vertical-align: middle;\n",
       "    }\n",
       "\n",
       "    .dataframe tbody tr th {\n",
       "        vertical-align: top;\n",
       "    }\n",
       "\n",
       "    .dataframe thead th {\n",
       "        text-align: right;\n",
       "    }\n",
       "</style>\n",
       "<table border=\"1\" class=\"dataframe\">\n",
       "  <thead>\n",
       "    <tr style=\"text-align: right;\">\n",
       "      <th></th>\n",
       "      <th>State_Name</th>\n",
       "      <th>District_Name</th>\n",
       "      <th>Crop_Year</th>\n",
       "      <th>Season</th>\n",
       "      <th>Crop</th>\n",
       "      <th>Area</th>\n",
       "      <th>Production</th>\n",
       "    </tr>\n",
       "  </thead>\n",
       "  <tbody>\n",
       "    <tr>\n",
       "      <th>0</th>\n",
       "      <td>Maharashtra</td>\n",
       "      <td>KOLHAPUR</td>\n",
       "      <td>2005</td>\n",
       "      <td>Kharif</td>\n",
       "      <td>Arhar/Tur</td>\n",
       "      <td>3100</td>\n",
       "      <td>1100.0</td>\n",
       "    </tr>\n",
       "    <tr>\n",
       "      <th>1</th>\n",
       "      <td>Maharashtra</td>\n",
       "      <td>KOLHAPUR</td>\n",
       "      <td>2005</td>\n",
       "      <td>Kharif</td>\n",
       "      <td>Castor seed</td>\n",
       "      <td>200</td>\n",
       "      <td>100.0</td>\n",
       "    </tr>\n",
       "    <tr>\n",
       "      <th>2</th>\n",
       "      <td>Maharashtra</td>\n",
       "      <td>KOLHAPUR</td>\n",
       "      <td>2005</td>\n",
       "      <td>Kharif</td>\n",
       "      <td>Cotton(lint)</td>\n",
       "      <td>100</td>\n",
       "      <td>100.0</td>\n",
       "    </tr>\n",
       "    <tr>\n",
       "      <th>3</th>\n",
       "      <td>Maharashtra</td>\n",
       "      <td>KOLHAPUR</td>\n",
       "      <td>2005</td>\n",
       "      <td>Kharif</td>\n",
       "      <td>Groundnut</td>\n",
       "      <td>64300</td>\n",
       "      <td>77900.0</td>\n",
       "    </tr>\n",
       "    <tr>\n",
       "      <th>4</th>\n",
       "      <td>Maharashtra</td>\n",
       "      <td>KOLHAPUR</td>\n",
       "      <td>2005</td>\n",
       "      <td>Kharif</td>\n",
       "      <td>Moong(Green Gram)</td>\n",
       "      <td>2600</td>\n",
       "      <td>1200.0</td>\n",
       "    </tr>\n",
       "  </tbody>\n",
       "</table>\n",
       "</div>"
      ],
      "text/plain": [
       "    State_Name District_Name  Crop_Year       Season               Crop  \\\n",
       "0  Maharashtra      KOLHAPUR       2005  Kharif               Arhar/Tur   \n",
       "1  Maharashtra      KOLHAPUR       2005  Kharif             Castor seed   \n",
       "2  Maharashtra      KOLHAPUR       2005  Kharif            Cotton(lint)   \n",
       "3  Maharashtra      KOLHAPUR       2005  Kharif               Groundnut   \n",
       "4  Maharashtra      KOLHAPUR       2005  Kharif       Moong(Green Gram)   \n",
       "\n",
       "    Area  Production  \n",
       "0   3100      1100.0  \n",
       "1    200       100.0  \n",
       "2    100       100.0  \n",
       "3  64300     77900.0  \n",
       "4   2600      1200.0  "
      ]
     },
     "execution_count": 28,
     "metadata": {},
     "output_type": "execute_result"
    }
   ],
   "source": [
    "data = pd.read_csv('cropdata.csv')\n",
    "data.head()"
   ]
  },
  {
   "cell_type": "code",
   "execution_count": 29,
   "metadata": {},
   "outputs": [
    {
     "name": "stdout",
     "output_type": "stream",
     "text": [
      "<class 'pandas.core.frame.DataFrame'>\n",
      "RangeIndex: 583 entries, 0 to 582\n",
      "Data columns (total 7 columns):\n",
      " #   Column         Non-Null Count  Dtype  \n",
      "---  ------         --------------  -----  \n",
      " 0   State_Name     583 non-null    object \n",
      " 1   District_Name  583 non-null    object \n",
      " 2   Crop_Year      583 non-null    int64  \n",
      " 3   Season         583 non-null    object \n",
      " 4   Crop           583 non-null    object \n",
      " 5   Area           583 non-null    int64  \n",
      " 6   Production     563 non-null    float64\n",
      "dtypes: float64(1), int64(2), object(4)\n",
      "memory usage: 32.0+ KB\n"
     ]
    }
   ],
   "source": [
    "data.info()"
   ]
  },
  {
   "cell_type": "markdown",
   "metadata": {},
   "source": [
    "**Data cleanning**"
   ]
  },
  {
   "cell_type": "code",
   "execution_count": 30,
   "metadata": {},
   "outputs": [
    {
     "data": {
      "text/plain": [
       "State_Name        0\n",
       "District_Name     0\n",
       "Crop_Year         0\n",
       "Season            0\n",
       "Crop              0\n",
       "Area              0\n",
       "Production       20\n",
       "dtype: int64"
      ]
     },
     "execution_count": 30,
     "metadata": {},
     "output_type": "execute_result"
    }
   ],
   "source": [
    "data.isnull().sum()"
   ]
  },
  {
   "cell_type": "code",
   "execution_count": 31,
   "metadata": {},
   "outputs": [
    {
     "data": {
      "text/plain": [
       "20"
      ]
     },
     "execution_count": 31,
     "metadata": {},
     "output_type": "execute_result"
    }
   ],
   "source": [
    "data['Production'].isnull().sum()"
   ]
  },
  {
   "cell_type": "code",
   "execution_count": 32,
   "metadata": {},
   "outputs": [],
   "source": [
    "data['Production']=data['Production'].fillna(data['Production'].median())"
   ]
  },
  {
   "cell_type": "code",
   "execution_count": 33,
   "metadata": {},
   "outputs": [
    {
     "data": {
      "text/plain": [
       "0"
      ]
     },
     "execution_count": 33,
     "metadata": {},
     "output_type": "execute_result"
    }
   ],
   "source": [
    "data['Production'].isnull().sum()"
   ]
  },
  {
   "cell_type": "code",
   "execution_count": 37,
   "metadata": {},
   "outputs": [],
   "source": [
    "data_season=data['Season']=='Kharif'\n",
    "crop=data['Crop']"
   ]
  },
  {
   "cell_type": "code",
   "execution_count": 41,
   "metadata": {},
   "outputs": [
    {
     "data": {
      "text/plain": [
       "array([2005, 2010, 2012, 2013, 2014], dtype=int64)"
      ]
     },
     "execution_count": 41,
     "metadata": {},
     "output_type": "execute_result"
    }
   ],
   "source": [
    "year = data['Crop_Year'].unique()\n",
    "year"
   ]
  },
  {
   "cell_type": "code",
   "execution_count": 42,
   "metadata": {},
   "outputs": [
    {
     "data": {
      "text/plain": [
       "array(['Kharif     ', 'Rabi       ', 'Summer     ', 'Whole Year '],\n",
       "      dtype=object)"
      ]
     },
     "execution_count": 42,
     "metadata": {},
     "output_type": "execute_result"
    }
   ],
   "source": [
    "season = data['Season'].unique()\n",
    "season"
   ]
  },
  {
   "cell_type": "code",
   "execution_count": null,
   "metadata": {},
   "outputs": [],
   "source": []
  }
 ],
 "metadata": {
  "kernelspec": {
   "display_name": "Python 3",
   "language": "python",
   "name": "python3"
  },
  "language_info": {
   "codemirror_mode": {
    "name": "ipython",
    "version": 3
   },
   "file_extension": ".py",
   "mimetype": "text/x-python",
   "name": "python",
   "nbconvert_exporter": "python",
   "pygments_lexer": "ipython3",
   "version": "3.8.3"
  }
 },
 "nbformat": 4,
 "nbformat_minor": 4
}
